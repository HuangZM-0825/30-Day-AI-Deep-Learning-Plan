{
 "cells": [
  {
   "cell_type": "markdown",
   "metadata": {},
   "source": [
    "**TensorFlow** 是目前業界常見的選擇之一，特別是與 Keras 結合使用時，它提供了強大的易用性和靈活性，因此我們將使用 TensorFlow 來實作這些指標，並評估 CNN 的效能。\n",
    "\n",
    "這次的實作將展示如何計算精確度、召回率、F1 分數和 ROC 曲線，並對已經訓練好的 CNN 模型進行評估。\n",
    "\n",
    "\n",
    "### **實作重點：**\n",
    "\n",
    "1. **精確度、召回率、F1 分數：**\n",
    "   使用 `classification_report` 可以快速得到這些指標，它會針對每個類別提供精確度、召回率、F1 分數的詳細報告。\n",
    "\n",
    "2. **混淆矩陣：**\n",
    "   使用 `confusion_matrix` 來了解模型的分類錯誤情況，混淆矩陣能直觀地顯示每個類別的預測結果與實際標籤的對應關係。\n",
    "\n",
    "3. **ROC 曲線和 AUC：**\n",
    "   為每個類別計算 ROC 曲線和 AUC，並用圖形展示其中一個類別的 ROC 曲線，幫助你視覺化模型的分類能力。\n",
    "\n",
    "---\n",
    "\n",
    "### **指標解釋：**\n",
    "\n",
    "- **精確度（Precision）：** 模型預測為正類的樣本中實際正類的比例。適合在錯誤分類正類代價較高的情況下使用。\n",
    "- **召回率（Recall）：** 在實際正類樣本中被正確預測為正類的比例。適合在錯誤分類負類代價較高的情況下使用。\n",
    "- **F1 分數：** 精確度和召回率的調和平均，用來平衡兩者之間的衝突。\n",
    "- **ROC 曲線與 AUC：** 用於評估模型在不同閾值下的分類性能，AUC 越接近 1，模型效果越好。\n",
    "\n",
    "---\n",
    "\n",
    "### **結論：**\n",
    "\n",
    "通過這些評估指標，我們可以深入了解 CNN 模型的效能。根據不同任務的需求，你可以重點關注某些指標來優化模型。這些方法是業界常用的評估手段，有助於在實際應用中更好地選擇和調整模型。"
   ]
  },
  {
   "cell_type": "markdown",
   "metadata": {},
   "source": [
    "### **TensorFlow 實作：評估 CNN 模型效能**"
   ]
  },
  {
   "cell_type": "code",
   "execution_count": null,
   "metadata": {},
   "outputs": [],
   "source": [
    "import tensorflow as tf\n",
    "from tensorflow.keras import layers, models\n",
    "from tensorflow.keras.datasets import mnist\n",
    "from sklearn.metrics import classification_report, confusion_matrix, roc_curve, auc\n",
    "import matplotlib.pyplot as plt\n",
    "import numpy as np\n",
    "\n",
    "# 下載並預處理 MNIST 資料集\n",
    "# MNIST 是一個手寫數字的資料集，包含 60,000 張訓練圖像和 10,000 張測試圖像\n",
    "(x_train, y_train), (x_test, y_test) = mnist.load_data()\n",
    "# 將訓練和測試圖像數據重塑為 (28, 28, 1) 並正規化到 0-1 範圍\n",
    "x_train = x_train.reshape((x_train.shape[0], 28, 28, 1)) / 255.0  # 增加通道維度並正規化\n",
    "x_test = x_test.reshape((x_test.shape[0], 28, 28, 1)) / 255.0\n",
    "\n",
    "# 建立 CNN 模型\n",
    "model = models.Sequential([\n",
    "    # 第一個卷積層，使用 32 個 3x3 的卷積核，激活函數為 ReLU，輸入形狀為 (28, 28, 1)\n",
    "    layers.Conv2D(32, (3, 3), activation='relu', input_shape=(28, 28, 1)),\n",
    "    # 最大池化層，池化窗口大小為 2x2\n",
    "    layers.MaxPooling2D((2, 2)),\n",
    "    # 第二個卷積層，使用 64 個 3x3 的卷積核，激活函數為 ReLU\n",
    "    layers.Conv2D(64, (3, 3), activation='relu'),\n",
    "    # 最大池化層，池化窗口大小為 2x2\n",
    "    layers.MaxPooling2D((2, 2)),\n",
    "    # 展開層，將多維數據展開為一維\n",
    "    layers.Flatten(),\n",
    "    # 全連接層，包含 128 個神經元，激活函數為 ReLU\n",
    "    layers.Dense(128, activation='relu'),\n",
    "    # 輸出層，包含 10 個神經元，對應 10 個類別，激活函數為 softmax\n",
    "    layers.Dense(10, activation='softmax')\n",
    "])\n",
    "\n",
    "# 編譯模型\n",
    "# 使用 Adam 優化器，損失函數為 sparse_categorical_crossentropy，評估指標為準確率\n",
    "model.compile(optimizer='adam',\n",
    "              loss='sparse_categorical_crossentropy',\n",
    "              metrics=['accuracy'])\n",
    "\n",
    "# 訓練模型\n",
    "# 使用訓練數據進行訓練，訓練 5 個 epoch，每批次大小為 64\n",
    "model.fit(x_train, y_train, epochs=5, batch_size=64)\n",
    "\n",
    "# 預測測試數據\n",
    "y_pred = model.predict(x_test)  # 預測測試數據\n",
    "y_pred_classes = np.argmax(y_pred, axis=1)  # 取得預測類別，使用 argmax 獲取每個樣本的最大概率對應的類別\n",
    "y_true = y_test  # 實際類別"
   ]
  },
  {
   "cell_type": "code",
   "execution_count": null,
   "metadata": {},
   "outputs": [],
   "source": [
    "# 計算精確度、召回率、F1 分數\n",
    "print(\"Classification Report:\")\n",
    "print(classification_report(y_true, y_pred_classes))"
   ]
  },
  {
   "cell_type": "code",
   "execution_count": null,
   "metadata": {},
   "outputs": [],
   "source": [
    "# 計算混淆矩陣\n",
    "print(\"Confusion Matrix:\")\n",
    "print(confusion_matrix(y_true, y_pred_classes))"
   ]
  },
  {
   "cell_type": "code",
   "execution_count": null,
   "metadata": {},
   "outputs": [],
   "source": [
    "# 計算 ROC 曲線和 AUC\n",
    "fpr = dict()  # 儲存每個類別的假陽性率\n",
    "tpr = dict()  # 儲存每個類別的真陽性率\n",
    "roc_auc = dict()  # 儲存每個類別的 AUC 值\n",
    "n_classes = 10  # 類別數量，MNIST 資料集有 10 個類別\n",
    "\n",
    "# 將類別轉換為 one-hot 編碼格式\n",
    "# y_true 是實際的類別標籤，將其轉換為 one-hot 編碼格式\n",
    "y_test_one_hot = tf.keras.utils.to_categorical(y_true, num_classes=n_classes)\n",
    "\n",
    "# 計算每個類別的 ROC 曲線和 AUC 值\n",
    "for i in range(n_classes):\n",
    "    # roc_curve 函數計算假陽性率和真陽性率\n",
    "    fpr[i], tpr[i], _ = roc_curve(y_test_one_hot[:, i], y_pred[:, i])\n",
    "    # auc 函數計算 AUC 值\n",
    "    roc_auc[i] = auc(fpr[i], tpr[i])\n",
    "\n",
    "# 繪製 ROC 曲線（僅繪製其中一個類別的示例）\n",
    "plt.figure()\n",
    "# 繪製類別 0 的 ROC 曲線\n",
    "plt.plot(fpr[0], tpr[0], color='darkorange', lw=2, label=f'ROC curve (area = {roc_auc[0]:.2f})')\n",
    "# 繪製對角線，表示隨機猜測的 ROC 曲線\n",
    "plt.plot([0, 1], [0, 1], color='navy', lw=2, linestyle='--')\n",
    "plt.xlim([0.0, 1.0])  # 設定 x 軸範圍\n",
    "plt.ylim([0.0, 1.05])  # 設定 y 軸範圍\n",
    "plt.xlabel('False Positive Rate')  # x 軸標籤\n",
    "plt.ylabel('True Positive Rate')  # y 軸標籤\n",
    "plt.title('Receiver Operating Characteristic - Class 0')  # 圖表標題\n",
    "plt.legend(loc=\"lower right\")  # 圖例位置\n",
    "plt.show()  # 顯示圖表"
   ]
  }
 ],
 "metadata": {
  "language_info": {
   "name": "python"
  }
 },
 "nbformat": 4,
 "nbformat_minor": 2
}
