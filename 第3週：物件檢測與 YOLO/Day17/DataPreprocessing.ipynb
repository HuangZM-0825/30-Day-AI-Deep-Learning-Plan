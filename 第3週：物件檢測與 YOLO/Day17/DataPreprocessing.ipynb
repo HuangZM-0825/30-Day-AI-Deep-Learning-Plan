{
 "cells": [
  {
   "cell_type": "markdown",
   "metadata": {},
   "source": [
    "### **數據集來源**\n",
    "\n",
    "[CelebFaces Attributes (CelebA) Dataset](https://www.kaggle.com/datasets/jessicali9530/celeba-dataset?resource=download)"
   ]
  },
  {
   "cell_type": "markdown",
   "metadata": {},
   "source": [
    "### **刪除 CelebA 資料集的一部分**"
   ]
  },
  {
   "cell_type": "markdown",
   "metadata": {},
   "source": [
    "當你隨機選擇一半的圖像並將其保留時，必須同步更新與這些圖像對應的標註文件，也就是說，必須刪除不再使用的圖像對應的標註，確保 `.csv` 文件中的記錄與你選擇保留的圖像一致。\n",
    "\n",
    "---\n",
    "\n",
    "### **同步刪除 `.csv` 文件中的標註**\n",
    "\n",
    "CelebA 資料集中的四個 `.csv` 文件對應著不同的標註信息：\n",
    "\n",
    "1. **`list_attr_celeba.csv`**：包含每張圖片的屬性標註（如性別、眼鏡等）。\n",
    "2. **`list_bbox_celeba.csv`**：包含每張圖片的邊界框標註（即人臉位置）。\n",
    "3. **`list_eval_partition.csv`**：包含每張圖片所屬的分區（訓練集、驗證集、測試集）。\n",
    "4. **`list_landmarks_align_celeba.csv`**：包含每張圖片的五個面部特徵點（如眼睛、鼻子、嘴等）。\n",
    "\n",
    "當你只保留一部分圖像後，需要同步過濾這四個 `.csv` 文件中的數據。\n",
    "\n",
    "### **驗證同步處理結果**\n",
    "\n",
    "在處理完圖片和 `.csv` 文件後，建議檢查以下幾點：\n",
    "- **圖片數量一致**：確保篩選後的圖片數量與 `.csv` 文件中的記錄數一致。\n",
    "- **文件對應正確**：確認篩選後的圖片文件名與 `.csv` 中的 `image_id` 一致。\n",
    "\n",
    "---\n",
    "\n",
    "### **總結**\n",
    "\n",
    "- 當你刪除了一部分圖像時，必須同步更新所有的 `.csv` 標註文件，確保這些文件只包含保留下來的圖片的標註。\n",
    "- 使用 Python 和 Pandas 可以輕鬆過濾和同步更新標註文件，並保存過濾後的新文件。"
   ]
  },
  {
   "cell_type": "markdown",
   "metadata": {},
   "source": [
    "### **打印所有 `.csv` 文件的列名**\n",
    "\n",
    "```python\n",
    "import pandas as pd\n",
    "\n",
    "# 讀取 CelebA 的四個 .csv 文件\n",
    "attr_df = pd.read_csv('list_attr_celeba.csv')\n",
    "bbox_df = pd.read_csv('list_bbox_celeba.csv')\n",
    "eval_partition_df = pd.read_csv('list_eval_partition.csv')\n",
    "landmarks_df = pd.read_csv('list_landmarks_align_celeba.csv')\n",
    "\n",
    "# 打印每個 .csv 文件的列名\n",
    "print(\"list_attr_celeba.csv 列名:\", attr_df.columns.tolist())\n",
    "print(\"list_bbox_celeba.csv 列名:\", bbox_df.columns.tolist())\n",
    "print(\"list_eval_partition.csv 列名:\", eval_partition_df.columns.tolist())\n",
    "print(\"list_landmarks_align_celeba.csv 列名:\", landmarks_df.columns.tolist())\n",
    "```\n",
    "\n",
    "### 解釋：\n",
    "- **`pd.read_csv()`**：用來讀取每個 `.csv` 文件。\n",
    "- **`df.columns.tolist()`**：用來獲取 DataFrame 的列名，並將其轉換為列表格式，方便打印。\n",
    "\n",
    "### 結果：\n",
    "這段代碼會打印出所有四個 `.csv` 文件的列名，這樣你就能知道每個文件的正確列名，並根據這些列名進行篩選操作。"
   ]
  },
  {
   "cell_type": "code",
   "execution_count": 2,
   "metadata": {},
   "outputs": [
    {
     "name": "stdout",
     "output_type": "stream",
     "text": [
      "list_attr_celeba.csv 列名: ['image_id', '5_o_Clock_Shadow', 'Arched_Eyebrows', 'Attractive', 'Bags_Under_Eyes', 'Bald', 'Bangs', 'Big_Lips', 'Big_Nose', 'Black_Hair', 'Blond_Hair', 'Blurry', 'Brown_Hair', 'Bushy_Eyebrows', 'Chubby', 'Double_Chin', 'Eyeglasses', 'Goatee', 'Gray_Hair', 'Heavy_Makeup', 'High_Cheekbones', 'Male', 'Mouth_Slightly_Open', 'Mustache', 'Narrow_Eyes', 'No_Beard', 'Oval_Face', 'Pale_Skin', 'Pointy_Nose', 'Receding_Hairline', 'Rosy_Cheeks', 'Sideburns', 'Smiling', 'Straight_Hair', 'Wavy_Hair', 'Wearing_Earrings', 'Wearing_Hat', 'Wearing_Lipstick', 'Wearing_Necklace', 'Wearing_Necktie', 'Young']\n",
      "list_bbox_celeba.csv 列名: ['image_id', 'x_1', 'y_1', 'width', 'height']\n",
      "list_eval_partition.csv 列名: ['image_id', 'partition']\n",
      "list_landmarks_align_celeba.csv 列名: ['image_id', 'lefteye_x', 'lefteye_y', 'righteye_x', 'righteye_y', 'nose_x', 'nose_y', 'leftmouth_x', 'leftmouth_y', 'rightmouth_x', 'rightmouth_y']\n"
     ]
    }
   ],
   "source": [
    "import pandas as pd\n",
    "\n",
    "# 讀取 CelebA 的四個 .csv 文件\n",
    "attr_df = pd.read_csv(r\"C:\\Users\\cgiks\\Downloads\\list_attr_celeba.csv\")\n",
    "bbox_df = pd.read_csv(r\"C:\\Users\\cgiks\\Downloads\\list_bbox_celeba.csv\")\n",
    "eval_partition_df = pd.read_csv(r\"C:\\Users\\cgiks\\Downloads\\list_eval_partition.csv\")\n",
    "landmarks_df = pd.read_csv(r\"C:\\Users\\cgiks\\Downloads\\list_landmarks_align_celeba.csv\")\n",
    "\n",
    "# 打印每個 .csv 文件的列名\n",
    "print(\"list_attr_celeba.csv 列名:\", attr_df.columns.tolist())\n",
    "print(\"list_bbox_celeba.csv 列名:\", bbox_df.columns.tolist())\n",
    "print(\"list_eval_partition.csv 列名:\", eval_partition_df.columns.tolist())\n",
    "print(\"list_landmarks_align_celeba.csv 列名:\", landmarks_df.columns.tolist())\n"
   ]
  },
  {
   "cell_type": "markdown",
   "metadata": {},
   "source": [
    "根據需求，進行**人臉識別**以及**偵測人臉和性別**，挑選最相關的列名。\n",
    "\n",
    "### 1. **`list_attr_celeba.csv`** - 屬性標註\n",
    "這個文件包含性別和其他外觀特徵。\n",
    "- **`image_id`**：圖片的唯一標識符，對應每張圖片。\n",
    "- **`Male`**：性別標註，1 代表男性，-1 代表女性。\n",
    "\n",
    "### 2. **`list_bbox_celeba.csv`** - 邊界框\n",
    "這個文件包含每張圖片中人臉的邊界框，對於偵測人臉是非常重要的。\n",
    "- **`image_id`**：圖片的唯一標識符。\n",
    "- **`x_1`**：邊界框左上角的 x 坐標。\n",
    "- **`y_1`**：邊界框左上角的 y 坐標。\n",
    "- **`width`**：邊界框的寬度。\n",
    "- **`height`**：邊界框的高度。\n",
    "\n",
    "---"
   ]
  },
  {
   "cell_type": "code",
   "execution_count": 4,
   "metadata": {},
   "outputs": [],
   "source": [
    "import os\n",
    "import random\n",
    "import pandas as pd\n",
    "import shutil\n",
    "\n",
    "# 圖片文件夾路徑\n",
    "image_folder = r\"C:\\Users\\cgiks\\Downloads\\img_align_celeba\\img_align_celeba\"\n",
    "all_images = os.listdir(image_folder)\n",
    "\n",
    "# 使用 round 函數選擇數據集總數的 0.5% 圖片\n",
    "one_percent_count = round(len(all_images) / 200)  \n",
    "\n",
    "# 隨機選擇 0.5% 圖片\n",
    "random.seed(42)\n",
    "selected_images = random.sample(all_images, one_percent_count)\n",
    "\n",
    "# 去掉擴展名，獲取圖像 ID\n",
    "# selected_image_ids = [img.split('.')[0] for img in selected_images]\n",
    "# 在原始 .csv 文件中，image_id 是以 .jpg 結尾的（如 000001.jpg），而在篩選條件中沒有 .jpg 的版本（如 000001）。這會導致在篩選後的 .csv 文件中找不到匹配的 image_id。因此，我們應該保留擴展名，以匹配原始 csv 中的格式\n",
    "\n",
    "# 保留擴展名，以匹配原始 csv 中的格式\n",
    "selected_image_ids = [img for img in selected_images]\n",
    "\n",
    "# 複製選擇的圖像到指定路徑\n",
    "output_image_folder = r'D:\\Learning_Python\\30-Day AI Deep Learning Plan\\第3週：物件檢測與 YOLO\\Day17\\images'\n",
    "os.makedirs(output_image_folder, exist_ok=True)\n",
    "\n",
    "for img in selected_images:\n",
    "    shutil.copy(os.path.join(image_folder, img), os.path.join(output_image_folder, img))\n",
    "\n",
    "# 讀取 CelebA 的四個 .csv 文件\n",
    "attr_df = pd.read_csv(r\"C:\\Users\\cgiks\\Downloads\\list_attr_celeba.csv\")\n",
    "bbox_df = pd.read_csv(r\"C:\\Users\\cgiks\\Downloads\\list_bbox_celeba.csv\")\n",
    "\n",
    "# 過濾出已選擇的圖片 ID，並只保留 'image_id' 和 'Male' 列\n",
    "attr_df_filtered = attr_df[attr_df['image_id'].isin(selected_image_ids)][['image_id', 'Male']]\n",
    "\n",
    "# 過濾出已選擇的圖片 ID，並只保留 'image_id'、'x_1'、'y_1'、'width' 和 'height' 列\n",
    "bbox_df_filtered = bbox_df[bbox_df['image_id'].isin(selected_image_ids)][['image_id', 'x_1', 'y_1', 'width', 'height']]\n",
    "\n",
    "# 指定輸出路徑並保存過濾後的文件\n",
    "output_csv_folder = r'D:\\Learning_Python\\30-Day AI Deep Learning Plan\\第3週：物件檢測與 YOLO\\Day17\\csv'\n",
    "os.makedirs(output_csv_folder, exist_ok=True)\n",
    "\n",
    "# 保存過濾後的 .csv 文件到指定路徑\n",
    "attr_df_filtered.to_csv(os.path.join(output_csv_folder, 'filtered_list_attr_celeba.csv'), index=False)\n",
    "bbox_df_filtered.to_csv(os.path.join(output_csv_folder, 'filtered_list_bbox_celeba.csv'), index=False)\n"
   ]
  }
 ],
 "metadata": {
  "kernelspec": {
   "display_name": "base",
   "language": "python",
   "name": "python3"
  },
  "language_info": {
   "codemirror_mode": {
    "name": "ipython",
    "version": 3
   },
   "file_extension": ".py",
   "mimetype": "text/x-python",
   "name": "python",
   "nbconvert_exporter": "python",
   "pygments_lexer": "ipython3",
   "version": "3.11.7"
  }
 },
 "nbformat": 4,
 "nbformat_minor": 2
}
