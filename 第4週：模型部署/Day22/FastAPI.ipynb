{
 "cells": [
  {
   "cell_type": "code",
   "execution_count": 7,
   "metadata": {},
   "outputs": [
    {
     "name": "stderr",
     "output_type": "stream",
     "text": [
      "INFO:     Started server process [18976]\n",
      "INFO:     Waiting for application startup.\n",
      "INFO:     Application startup complete.\n",
      "INFO:     Uvicorn running on http://0.0.0.0:8000 (Press CTRL+C to quit)\n"
     ]
    },
    {
     "name": "stdout",
     "output_type": "stream",
     "text": [
      "1/1 [==============================] - 0s 63ms/step\n",
      "INFO:     127.0.0.1:49753 - \"POST /predict/ HTTP/1.1\" 200 OK\n"
     ]
    },
    {
     "name": "stderr",
     "output_type": "stream",
     "text": [
      "INFO:     Shutting down\n",
      "INFO:     Waiting for application shutdown.\n",
      "INFO:     Application shutdown complete.\n",
      "INFO:     Finished server process [18976]\n"
     ]
    }
   ],
   "source": [
    "from fastapi import FastAPI, UploadFile, File\n",
    "import uvicorn\n",
    "from PIL import Image\n",
    "import io\n",
    "import numpy as np\n",
    "import tensorflow as tf\n",
    "\n",
    "import nest_asyncio\n",
    "nest_asyncio.apply()\n",
    "\n",
    "# 初始化 FastAPI 應用\n",
    "app = FastAPI()\n",
    "\n",
    "# 載入已保存的 CNN 模型\n",
    "model = tf.keras.models.load_model(r\"D:\\Learning_Python\\30-Day_AI_Deep_Learning_Plan\\mnist_cnn_model.h5\")\n",
    "\n",
    "# 定義一個端點來接受圖片並進行推理\n",
    "@app.post(\"/predict/\")\n",
    "async def predict(file: UploadFile = File(...)):\n",
    "    # 讀取上傳的圖片\n",
    "    image = Image.open(io.BytesIO(await file.read())).convert('L')  # 轉為灰階\n",
    "    image = image.resize((28, 28))  # 調整大小到 28x28\n",
    "\n",
    "    # 預處理圖片\n",
    "    image_np = np.array(image).reshape(1, 28, 28, 1) / 255.0\n",
    "\n",
    "    # 模型推理\n",
    "    predictions = model.predict(image_np)\n",
    "    predicted_label = np.argmax(predictions, axis=1)[0]\n",
    "\n",
    "    # 返回分類結果\n",
    "    return {\"predicted_label\": int(predicted_label)}\n",
    "\n",
    "# 運行 FastAPI 應用\n",
    "if __name__ == \"__main__\":\n",
    "    import uvicorn\n",
    "    uvicorn.run(app, host=\"0.0.0.0\", port=8000)\n",
    "    "
   ]
  },
  {
   "cell_type": "code",
   "execution_count": 6,
   "metadata": {},
   "outputs": [
    {
     "data": {
      "image/png": "[encoded data removed]",
      "text/plain": [
       "<Figure size 640x480 with 1 Axes>"
      ]
     },
     "metadata": {},
     "output_type": "display_data"
    },
    {
     "name": "stdout",
     "output_type": "stream",
     "text": [
      "Label for the image: 9\n"
     ]
    }
   ],
   "source": [
    "import matplotlib.pyplot as plt\n",
    "from tensorflow.keras.datasets import mnist\n",
    "\n",
    "# 下载 MNIST 数据集\n",
    "(x_train, y_train), (x_test, y_test) = mnist.load_data()\n",
    "\n",
    "# 选择一张图片\n",
    "image_index = 0  # 选择图片的索引\n",
    "image = x_train[image_index]\n",
    "\n",
    "# 保存为图片文件\n",
    "plt.imshow(image, cmap='gray')\n",
    "plt.axis('off')  # 关闭坐标轴显示\n",
    "plt.savefig('mnist_digit1.png', bbox_inches='tight', pad_inches=0)  # 保存图片到当前目录\n",
    "plt.show()\n",
    "\n",
    "# 输出该图片的标签\n",
    "print(f\"Label for the image: {y_train[image_index]}\")\n"
   ]
  }
 ],
 "metadata": {
  "kernelspec": {
   "display_name": "base",
   "language": "python",
   "name": "python3"
  },
  "language_info": {
   "codemirror_mode": {
    "name": "ipython",
    "version": 3
   },
   "file_extension": ".py",
   "mimetype": "text/x-python",
   "name": "python",
   "nbconvert_exporter": "python",
   "pygments_lexer": "ipython3",
   "version": "3.11.7"
  }
 },
 "nbformat": 4,
 "nbformat_minor": 2
}
