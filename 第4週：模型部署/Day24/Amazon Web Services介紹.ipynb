{
 "cells": [
  {
   "cell_type": "markdown",
   "metadata": {},
   "source": [
    "在第24天課程中，將模型部署到 AWS 是主要任務，而 FastAPI 可以是其中一個搭配的工具。AWS（Amazon Web Services）提供多種方式來部署你的模型，特別是使用 FastAPI 作為模型的 API，可以方便地透過網絡服務來調用模型進行推理。\n",
    "\n",
    "這裡是幾個常見的 AWS 部署選項，你可以選擇其中一個來完成課程：\n",
    "\n",
    "### 1. **AWS EC2 部署**\n",
    "   - **流程**：使用 EC2 虛擬機器來部署你的應用程式。\n",
    "   - **步驟**：\n",
    "     - 設定 EC2 實例（選擇合適的機器規格）。\n",
    "     - 安裝 Docker 或直接在 EC2 中安裝 FastAPI 和模型所需的依賴項。\n",
    "     - 部署 FastAPI 應用程式，然後將模型和 FastAPI 結合。\n",
    "     - 將你的 FastAPI 應用通過 Nginx 代理公開給網絡，並設置防火牆以允許對外訪問。\n",
    "\n",
    "### 2. **AWS Lambda + API Gateway**\n",
    "   - **流程**：這是一種無伺服器（serverless）的選擇，你可以將 FastAPI 或模型的推理功能打包成 Lambda 函數，然後通過 API Gateway 來處理 HTTP 請求。\n",
    "   - **步驟**：\n",
    "     - 創建 Lambda 函數來載入模型並進行推理。\n",
    "     - 使用 API Gateway 來創建 REST API，通過該 API 調用 Lambda 函數。\n",
    "     - Lambda 是無狀態且高效的，適合小型、短期運行的模型推理需求。\n",
    "\n",
    "### 3. **AWS Elastic Beanstalk**\n",
    "   - **流程**：Elastic Beanstalk 提供了一個簡單的方式來部署和管理應用程式，你可以將你的 FastAPI 應用程式打包成 Docker，並使用 Elastic Beanstalk 來進行自動化管理和部署。\n",
    "   - **步驟**：\n",
    "     - 構建一個包含 FastAPI 和模型的 Docker 映像。\n",
    "     - 使用 Elastic Beanstalk CLI 將應用程式推送到 AWS，Elastic Beanstalk 會自動處理實例配置、負載平衡等細節。\n",
    "     - 適合那些希望減少基礎架構管理的開發者。\n",
    "\n",
    "### 總結：\n",
    "- 如果你已經習慣使用 Docker，建議使用 **EC2** 或 **Elastic Beanstalk**，這樣可以直接將你現有的應用程式打包成容器部署。\n",
    "- 如果你希望快速部署且只需要處理簡單的推理工作，則 **Lambda + API Gateway** 是輕量級的選擇。\n",
    "\n",
    "---"
   ]
  }
 ],
 "metadata": {
  "language_info": {
   "name": "python"
  }
 },
 "nbformat": 4,
 "nbformat_minor": 2
}
